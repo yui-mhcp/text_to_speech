{
 "cells": [
  {
   "cell_type": "markdown",
   "metadata": {},
   "source": [
    "# SV2TTS Tacotron-2 single-speaker fine-tuning\n",
    "\n",
    "The main advantage of the `SV2TTS` is that it allows really fast training on single-speaker with few data.\n",
    "\n",
    "This notebook shows how to fine-tune a pretrained `multi-speaker SV2TTS` on `single-speaker` based on an `identification dataset`.\n",
    "\n",
    "Note : the `SV2TTS` initial objective is to be a *universal voice cloner* but in practice I did not achieve this kind of performance yet. However with this notebook, I achieved to train completely realistic `TTS` model with only 20min of annotated audio (around 450 samples) !"
   ]
  },
  {
   "cell_type": "markdown",
   "metadata": {},
   "source": [
    "## Imports + model creation"
   ]
  },
  {
   "cell_type": "code",
   "execution_count": 1,
   "metadata": {
    "tags": []
   },
   "outputs": [
    {
     "name": "stdout",
     "output_type": "stream",
     "text": [
      "Tensorflow version : 2.10.0\n",
      "Available GPU's : [PhysicalDevice(name='/physical_device:GPU:0', device_type='GPU')]\n"
     ]
    }
   ],
   "source": [
    "import os\n",
    "import random\n",
    "import numpy as np\n",
    "import pandas as pd\n",
    "import tensorflow as tf\n",
    "\n",
    "from models import get_pretrained\n",
    "from models.tts import SV2TTSTacotron2, WaveGlow\n",
    "from custom_architectures import get_architecture\n",
    "from datasets import get_dataset, train_test_split, filter_dataset, get_dataset_dir\n",
    "from utils import plot_spectrogram, select_embedding\n",
    "from utils.text import default_french_encoder\n",
    "from utils.audio import display_audio, load_audio, write_audio, embed_annotation_dataset\n",
    "\n",
    "gpus = tf.config.list_physical_devices('GPU')\n",
    "\n",
    "rate = 22050\n",
    "model_name = 'sv2tts_fine_tuned'\n",
    "\n",
    "print(\"Tensorflow version : {}\".format(tf.__version__))\n",
    "print(\"Available GPU's : {}\".format(gpus))"
   ]
  },
  {
   "cell_type": "code",
   "execution_count": 2,
   "metadata": {},
   "outputs": [
    {
     "name": "stdout",
     "output_type": "stream",
     "text": [
      "Model restoration...\n",
      "Initializing submodel : tts_model !\n",
      "Optimizer 'tts_model_optimizer' initilized successfully !\n",
      "Submodel tts_model compiled !\n",
      "  Loss : {'reduction': 'none', 'name': 'tacotron_loss', 'mel_loss': 'mse', 'mask_mel_padding': True, 'label_smoothing': 0, 'finish_weight': 1.0, 'not_finish_weight': 1.0, 'from_logits': False}\n",
      "  Optimizer : {'name': 'Adam', 'learning_rate': {'class_name': 'WarmupScheduler', 'config': {'factor': 1024.0, 'warmup_steps': 2048, 'minval': 0.00025, 'maxval': 0.00075}}, 'decay': 0.0, 'beta_1': 0.8999999761581421, 'beta_2': 0.9990000128746033, 'epsilon': 1e-07, 'amsgrad': False}\n",
      "  Metrics : []\n",
      "Successfully restored tts_model from pretrained_models/sv2tts_tacotron2_256/saving/tts_model.json !\n",
      "Model sv2tts_tacotron2_256 initialized successfully !\n",
      "Initializing submodel : tts_model !\n",
      "Submodel tts_model saved in pretrained_models\\sv2tts_fine_tuned\\saving\\tts_model.json !\n",
      "Model sv2tts_fine_tuned initialized successfully !\n",
      "Weights transfered successfully !\n",
      "Submodel tts_model saved in pretrained_models\\sv2tts_fine_tuned\\saving\\tts_model.json !\n",
      "\n",
      "========== sv2tts_fine_tuned ==========\n",
      "Sub model tts_model\n",
      "- Inputs \t: unknown\n",
      "- Outputs \t: unknown\n",
      "- Number of layers \t: 3\n",
      "- Number of parameters \t: 30.341 Millions\n",
      "- Model not compiled\n",
      "\n",
      "Transfer-learning from : sv2tts_tacotron2_256\n",
      "Already trained on 0 epochs (0 steps)\n",
      "\n",
      "Input language : fr\n",
      "Input vocab (size = 148) : ['_', '-', '!', \"'\", '(', ')', ',', '.', ':', ';', '?', ' ', 'A', 'B', 'C', 'D', 'E', 'F', 'G', 'H', 'I', 'J', 'K', 'L', 'M', 'N', 'O', 'P', 'Q', 'R', 'S', 'T', 'U', 'V', 'W', 'X', 'Y', 'Z', 'a', 'b', 'c', 'd', 'e', 'f', 'g', 'h', 'i', 'j', 'k', 'l', 'm', 'n', 'o', 'p', 'q', 'r', 's', 't', 'u', 'v', 'w', 'x', 'y', 'z', 'à', 'é', 'è', 'ê', 'î', 'ç', 'ô', 'ù', 'ukn_0', 'ukn_1', 'ukn_2', 'ukn_3', 'ukn_4', 'ukn_5', 'ukn_6', 'ukn_7', 'ukn_8', 'ukn_9', 'ukn_10', 'ukn_11', 'ukn_12', 'ukn_13', 'ukn_14', 'ukn_15', 'ukn_16', 'ukn_17', 'ukn_18', 'ukn_19', 'ukn_20', 'ukn_21', 'ukn_22', 'ukn_23', 'ukn_24', 'ukn_25', 'ukn_26', 'ukn_27', 'ukn_28', 'ukn_29', 'ukn_30', 'ukn_31', 'ukn_32', 'ukn_33', 'ukn_34', 'ukn_35', 'ukn_36', 'ukn_37', 'ukn_38', 'ukn_39', 'ukn_40', 'ukn_41', 'ukn_42', 'ukn_43', 'ukn_44', 'ukn_45', 'ukn_46', 'ukn_47', 'ukn_48', 'ukn_49', 'ukn_50', 'ukn_51', 'ukn_52', 'ukn_53', 'ukn_54', 'ukn_55', 'ukn_56', 'ukn_57', 'ukn_58', 'ukn_59', 'ukn_60', 'ukn_61', 'ukn_62', 'ukn_63', 'ukn_64', 'ukn_65', 'ukn_66', 'ukn_67', 'ukn_68', 'ukn_69', 'ukn_70', 'ukn_71', 'ukn_72', 'ukn_73', 'ukn_74', 'ukn_75']\n",
      "Audio rate : 22050\n",
      "Mel channels : 80\n",
      "Speaker embedding dim : 256\n",
      "Speaker encoder : audio_siamese_256_mel_lstm\n",
      "\n"
     ]
    }
   ],
   "source": [
    "model = SV2TTSTacotron2.from_pretrained(pretrained_name = 'sv2tts_tacotron2_256', nom = model_name)\n",
    "print(model)"
   ]
  },
  {
   "cell_type": "markdown",
   "metadata": {},
   "source": [
    "## Model initialization"
   ]
  },
  {
   "cell_type": "code",
   "execution_count": 2,
   "metadata": {},
   "outputs": [
    {
     "name": "stdout",
     "output_type": "stream",
     "text": [
      "Model restoration...\n",
      "Initializing submodel : tts_model !\n",
      "Optimizer 'tts_model_optimizer' initilized successfully !\n",
      "Submodel tts_model compiled !\n",
      "  Loss : {'reduction': 'none', 'name': 'tacotron_loss', 'mel_loss': 'mse', 'mask_mel_padding': True, 'label_smoothing': 0, 'finish_weight': 1.0, 'not_finish_weight': 1.0, 'from_logits': False}\n",
      "  Optimizer : {'name': 'RMSprop', 'learning_rate': 0.0005000000237487257, 'decay': 0.0, 'rho': 0.8999999761581421, 'momentum': 0.0, 'epsilon': 1e-07, 'centered': False}\n",
      "  Metrics : []\n",
      "Successfully restored tts_model from pretrained_models/sv2tts_fine_tuned/saving/tts_model.json !\n",
      "Model sv2tts_fine_tuned initialized successfully !\n",
      "Model tts_model is already compiled !\n",
      "\n",
      "========== sv2tts_fine_tuned ==========\n",
      "Sub model tts_model\n",
      "- Inputs \t: unknown\n",
      "- Outputs \t: unknown\n",
      "- Number of layers \t: 3\n",
      "- Number of parameters \t: 30.341 Millions\n",
      "- Optimizer \t: {'name': 'RMSprop', 'learning_rate': 0.0005000000237487257, 'decay': 0.0, 'rho': 0.8999999761581421, 'momentum': 0.0, 'epsilon': 1e-07, 'centered': False}\n",
      "- Loss \t : {'reduction': 'none', 'name': 'tacotron_loss', 'mel_loss': 'mse', 'mask_mel_padding': True, 'label_smoothing': 0, 'finish_weight': 1.0, 'not_finish_weight': 1.0, 'from_logits': False}\n",
      "- Metrics\t : []\n",
      "\n",
      "Already trained on 175 epochs (5000 steps)\n",
      "\n",
      "Input language : fr\n",
      "Input vocab (size = 148) : ['_', '-', '!', \"'\", '(', ')', ',', '.', ':', ';', '?', ' ', 'A', 'B', 'C', 'D', 'E', 'F', 'G', 'H', 'I', 'J', 'K', 'L', 'M', 'N', 'O', 'P', 'Q', 'R', 'S', 'T', 'U', 'V', 'W', 'X', 'Y', 'Z', 'a', 'b', 'c', 'd', 'e', 'f', 'g', 'h', 'i', 'j', 'k', 'l', 'm', 'n', 'o', 'p', 'q', 'r', 's', 't', 'u', 'v', 'w', 'x', 'y', 'z', 'à', 'é', 'è', 'ê', 'î', 'ç', 'ô', 'ù', 'ukn_0', 'ukn_1', 'ukn_2', 'ukn_3', 'ukn_4', 'ukn_5', 'ukn_6', 'ukn_7', 'ukn_8', 'ukn_9', 'ukn_10', 'ukn_11', 'ukn_12', 'ukn_13', 'ukn_14', 'ukn_15', 'ukn_16', 'ukn_17', 'ukn_18', 'ukn_19', 'ukn_20', 'ukn_21', 'ukn_22', 'ukn_23', 'ukn_24', 'ukn_25', 'ukn_26', 'ukn_27', 'ukn_28', 'ukn_29', 'ukn_30', 'ukn_31', 'ukn_32', 'ukn_33', 'ukn_34', 'ukn_35', 'ukn_36', 'ukn_37', 'ukn_38', 'ukn_39', 'ukn_40', 'ukn_41', 'ukn_42', 'ukn_43', 'ukn_44', 'ukn_45', 'ukn_46', 'ukn_47', 'ukn_48', 'ukn_49', 'ukn_50', 'ukn_51', 'ukn_52', 'ukn_53', 'ukn_54', 'ukn_55', 'ukn_56', 'ukn_57', 'ukn_58', 'ukn_59', 'ukn_60', 'ukn_61', 'ukn_62', 'ukn_63', 'ukn_64', 'ukn_65', 'ukn_66', 'ukn_67', 'ukn_68', 'ukn_69', 'ukn_70', 'ukn_71', 'ukn_72', 'ukn_73', 'ukn_74', 'ukn_75']\n",
      "Audio rate : 22050\n",
      "Mel channels : 80\n",
      "Speaker embedding dim : 256\n",
      "Speaker encoder : audio_siamese_256_mel_lstm\n",
      "\n"
     ]
    }
   ],
   "source": [
    "model = SV2TTSTacotron2(nom = model_name)\n",
    "\n",
    "lr = 5e-4 #{ 'name': 'WarmupScheduler', 'maxval' : 5e-4, 'minval' : 25e-5, 'factor' : 256, 'warmup_steps' : 256}\n",
    "\n",
    "model.compile(optimizer = 'rmsprop', optimizer_config = {'lr' : lr})\n",
    "\n",
    "print(model)"
   ]
  },
  {
   "cell_type": "markdown",
   "metadata": {},
   "source": [
    "## Dataset creation / loading"
   ]
  },
  {
   "cell_type": "code",
   "execution_count": null,
   "metadata": {},
   "outputs": [],
   "source": [
    "path = '{}/...'.format(get_dataset_dir())\n",
    "\n",
    "dataset = embed_annotation_dataset(\n",
    "    path, embed_fn = model.speaker_encoder.embed, embedding_dim = model.embedding_dim, rate = model.speaker_encoder.audio_rate,\n",
    "    embedding_name = model.encoder_name\n",
    ")\n"
   ]
  },
  {
   "cell_type": "code",
   "execution_count": 3,
   "metadata": {},
   "outputs": [
    {
     "name": "stdout",
     "output_type": "stream",
     "text": [
      "Loading dataset custom_dataset...\n",
      "Dataset length : 489 (1 speakers)\n"
     ]
    }
   ],
   "source": [
    "kwargs = {\n",
    "    'directory'      : '{}/...'.format(get_dataset_dir()),\n",
    "    'type_annots'    : 'identification',\n",
    "    'embedding_dim'  : model.embedding_dim,\n",
    "    'embedding_name' : model.encoder_name\n",
    "}\n",
    "\n",
    "dataset = get_dataset(\n",
    "    'custom_dataset_name', ds_type = 'custom', ** kwargs\n",
    ")\n",
    "if 'indexes' in dataset.columns: dataset.pop('indexes')\n",
    "\n",
    "print(\"Dataset length : {} ({} speakers)\".format(\n",
    "    len(dataset), len(dataset['id'].unique())\n",
    "))"
   ]
  },
  {
   "cell_type": "markdown",
   "metadata": {},
   "source": [
    "## Training"
   ]
  },
  {
   "cell_type": "code",
   "execution_count": 4,
   "metadata": {},
   "outputs": [
    {
     "name": "stdout",
     "output_type": "stream",
     "text": [
      "Training samples   : 465 - 29 batches - 1 speakers\n",
      "Validation samples : 24 - 1 batches - 1 speakers\n",
      "Training config :\n",
      "HParams :\n",
      "- augment_prct\t: 0.2\n",
      "- max_input_length\t: 300\n",
      "- max_output_length\t: 2048\n",
      "- max_train_frames\t: -1\n",
      "- pad_to_multiple\t: False\n",
      "- trim_audio\t: True\n",
      "- reduce_noise\t: False\n",
      "- trim_threshold\t: 0.025\n",
      "- max_silence\t: 0.1\n",
      "- trim_method\t: remove\n",
      "- trim_mode\t: start_end\n",
      "- trim_mel\t: False\n",
      "- trim_factor\t: 0.6\n",
      "- trim_mel_method\t: max_start_end\n",
      "- augment_speaker_embedding\t: False\n",
      "- use_utterance_embedding\t: True\n",
      "- epochs\t: 200\n",
      "- batch_size\t: 16\n",
      "- valid_batch_size\t: 16\n",
      "- test_batch_size\t: 1\n",
      "- verbose\t: 1\n",
      "- train_times\t: 1\n",
      "- valid_times\t: 1\n",
      "- train_size\t: None\n",
      "- valid_size\t: None\n",
      "- test_size\t: 4\n",
      "- pred_step\t: -5\n",
      "- shuffle_size\t: 1024\n",
      "\n",
      "Epoch 176/200\n",
      "30/30 [==============================] - 182s 6s/step - loss: 0.2314 - mse_mel_loss: 0.1216 - mse_mel_postnet_loss: 0.1088 - gate_loss: 9.4628e-04 - val_loss: 1.1254 - val_mse_mel_loss: 0.6053 - val_mse_mel_postnet_loss: 0.5055 - val_gate_loss: 0.0146\n",
      "\n",
      "Saving at epoch 176 !\n",
      "Epoch 177/200\n",
      "30/30 [==============================] - 168s 6s/step - loss: 0.2406 - mse_mel_loss: 0.1261 - mse_mel_postnet_loss: 0.1131 - gate_loss: 0.0014 - val_loss: 1.0939 - val_mse_mel_loss: 0.5956 - val_mse_mel_postnet_loss: 0.4843 - val_gate_loss: 0.0140\n",
      "\n",
      "Saving at epoch 177 !\n",
      "Epoch 178/200\n",
      "30/30 [==============================] - 177s 6s/step - loss: 0.2179 - mse_mel_loss: 0.1141 - mse_mel_postnet_loss: 0.1028 - gate_loss: 0.0010 - val_loss: 1.1232 - val_mse_mel_loss: 0.6105 - val_mse_mel_postnet_loss: 0.4986 - val_gate_loss: 0.0141\n",
      "Epoch 179/200\n",
      "30/30 [==============================] - 177s 6s/step - loss: 0.2223 - mse_mel_loss: 0.1160 - mse_mel_postnet_loss: 0.1045 - gate_loss: 0.0018 - val_loss: 1.1070 - val_mse_mel_loss: 0.6009 - val_mse_mel_postnet_loss: 0.4922 - val_gate_loss: 0.0140\n",
      "Epoch 180/200\n",
      "30/30 [==============================] - 176s 6s/step - loss: 0.2185 - mse_mel_loss: 0.1141 - mse_mel_postnet_loss: 0.1028 - gate_loss: 0.0017 - val_loss: 1.1349 - val_mse_mel_loss: 0.6108 - val_mse_mel_postnet_loss: 0.5103 - val_gate_loss: 0.0138\n",
      "\n",
      "Making prediction at step 5150\n",
      "Epoch 181/200\n",
      "30/30 [==============================] - 176s 6s/step - loss: 0.2235 - mse_mel_loss: 0.1164 - mse_mel_postnet_loss: 0.1060 - gate_loss: 0.0011 - val_loss: 1.1295 - val_mse_mel_loss: 0.6093 - val_mse_mel_postnet_loss: 0.5066 - val_gate_loss: 0.0137\n",
      "Epoch 182/200\n",
      "30/30 [==============================] - 178s 6s/step - loss: 0.2339 - mse_mel_loss: 0.1216 - mse_mel_postnet_loss: 0.1112 - gate_loss: 0.0011 - val_loss: 1.1200 - val_mse_mel_loss: 0.6056 - val_mse_mel_postnet_loss: 0.5001 - val_gate_loss: 0.0143\n",
      "Epoch 183/200\n",
      "30/30 [==============================] - 177s 6s/step - loss: 0.2202 - mse_mel_loss: 0.1154 - mse_mel_postnet_loss: 0.1042 - gate_loss: 6.3169e-04 - val_loss: 1.1300 - val_mse_mel_loss: 0.6125 - val_mse_mel_postnet_loss: 0.5025 - val_gate_loss: 0.0150\n",
      "Epoch 184/200\n",
      "30/30 [==============================] - 176s 6s/step - loss: 0.2251 - mse_mel_loss: 0.1176 - mse_mel_postnet_loss: 0.1064 - gate_loss: 0.0012 - val_loss: 1.1096 - val_mse_mel_loss: 0.6006 - val_mse_mel_postnet_loss: 0.4941 - val_gate_loss: 0.0149\n",
      "Epoch 185/200\n",
      "30/30 [==============================] - 177s 6s/step - loss: 0.2138 - mse_mel_loss: 0.1117 - mse_mel_postnet_loss: 0.1013 - gate_loss: 7.6297e-04 - val_loss: 1.1557 - val_mse_mel_loss: 0.6132 - val_mse_mel_postnet_loss: 0.5273 - val_gate_loss: 0.0153\n",
      "\n",
      "Making prediction at step 5300\n",
      "Epoch 186/200\n",
      "30/30 [==============================] - 178s 6s/step - loss: 0.2161 - mse_mel_loss: 0.1123 - mse_mel_postnet_loss: 0.1021 - gate_loss: 0.0018 - val_loss: 1.1199 - val_mse_mel_loss: 0.6095 - val_mse_mel_postnet_loss: 0.4959 - val_gate_loss: 0.0144\n",
      "Epoch 187/200\n",
      "30/30 [==============================] - 176s 6s/step - loss: 0.2199 - mse_mel_loss: 0.1140 - mse_mel_postnet_loss: 0.1036 - gate_loss: 0.0023 - val_loss: 1.1511 - val_mse_mel_loss: 0.6164 - val_mse_mel_postnet_loss: 0.5196 - val_gate_loss: 0.0151\n",
      "Epoch 188/200\n",
      "30/30 [==============================] - 177s 6s/step - loss: 0.2174 - mse_mel_loss: 0.1132 - mse_mel_postnet_loss: 0.1033 - gate_loss: 8.1703e-04 - val_loss: 1.1438 - val_mse_mel_loss: 0.6208 - val_mse_mel_postnet_loss: 0.5065 - val_gate_loss: 0.0165\n",
      "Epoch 189/200\n",
      "30/30 [==============================] - 176s 6s/step - loss: 0.2216 - mse_mel_loss: 0.1157 - mse_mel_postnet_loss: 0.1051 - gate_loss: 9.1252e-04 - val_loss: 1.1360 - val_mse_mel_loss: 0.6113 - val_mse_mel_postnet_loss: 0.5093 - val_gate_loss: 0.0154\n",
      "Epoch 190/200\n",
      "30/30 [==============================] - 177s 6s/step - loss: 0.2152 - mse_mel_loss: 0.1120 - mse_mel_postnet_loss: 0.1026 - gate_loss: 6.9700e-04 - val_loss: 1.1452 - val_mse_mel_loss: 0.6140 - val_mse_mel_postnet_loss: 0.5145 - val_gate_loss: 0.0168\n",
      "\n",
      "Making prediction at step 5450\n",
      "Epoch 191/200\n",
      "30/30 [==============================] - 177s 6s/step - loss: 0.2095 - mse_mel_loss: 0.1096 - mse_mel_postnet_loss: 0.0993 - gate_loss: 5.1150e-04 - val_loss: 1.1770 - val_mse_mel_loss: 0.6243 - val_mse_mel_postnet_loss: 0.5363 - val_gate_loss: 0.0164\n",
      "Epoch 192/200\n",
      "30/30 [==============================] - 177s 6s/step - loss: 0.2142 - mse_mel_loss: 0.1121 - mse_mel_postnet_loss: 0.1015 - gate_loss: 6.6103e-04 - val_loss: 1.1242 - val_mse_mel_loss: 0.6049 - val_mse_mel_postnet_loss: 0.5034 - val_gate_loss: 0.0158\n",
      "Epoch 193/200\n",
      "30/30 [==============================] - 177s 6s/step - loss: 0.2039 - mse_mel_loss: 0.1064 - mse_mel_postnet_loss: 0.0969 - gate_loss: 6.4844e-04 - val_loss: 1.1680 - val_mse_mel_loss: 0.6272 - val_mse_mel_postnet_loss: 0.5243 - val_gate_loss: 0.0165\n",
      "Epoch 194/200\n",
      "30/30 [==============================] - 177s 6s/step - loss: 0.2490 - mse_mel_loss: 0.1300 - mse_mel_postnet_loss: 0.1181 - gate_loss: 8.5946e-04 - val_loss: 1.1282 - val_mse_mel_loss: 0.6152 - val_mse_mel_postnet_loss: 0.4971 - val_gate_loss: 0.0159\n",
      "Epoch 195/200\n",
      "30/30 [==============================] - 177s 6s/step - loss: 0.2048 - mse_mel_loss: 0.1066 - mse_mel_postnet_loss: 0.0973 - gate_loss: 8.6937e-04 - val_loss: 1.1805 - val_mse_mel_loss: 0.6289 - val_mse_mel_postnet_loss: 0.5340 - val_gate_loss: 0.0176\n",
      "\n",
      "Making prediction at step 5600\n",
      "Epoch 196/200\n",
      "30/30 [==============================] - 176s 6s/step - loss: 0.2087 - mse_mel_loss: 0.1084 - mse_mel_postnet_loss: 0.0997 - gate_loss: 6.3417e-04 - val_loss: 1.1506 - val_mse_mel_loss: 0.6192 - val_mse_mel_postnet_loss: 0.5154 - val_gate_loss: 0.0160\n",
      "Epoch 197/200\n",
      "30/30 [==============================] - ETA: 0s - loss: 0.2076 - mse_mel_loss: 0.1081 - mse_mel_postnet_loss: 0.0988 - gate_loss: 6.7739e-04\n",
      "Saving after 1 hour training !\n",
      "30/30 [==============================] - 177s 6s/step - loss: 0.2076 - mse_mel_loss: 0.1081 - mse_mel_postnet_loss: 0.0988 - gate_loss: 6.7893e-04 - val_loss: 1.1765 - val_mse_mel_loss: 0.6252 - val_mse_mel_postnet_loss: 0.5350 - val_gate_loss: 0.0163\n",
      "Epoch 198/200\n",
      "30/30 [==============================] - 178s 6s/step - loss: 0.2081 - mse_mel_loss: 0.1083 - mse_mel_postnet_loss: 0.0986 - gate_loss: 0.0012 - val_loss: 1.1690 - val_mse_mel_loss: 0.6243 - val_mse_mel_postnet_loss: 0.5282 - val_gate_loss: 0.0165\n",
      "Epoch 199/200\n",
      "30/30 [==============================] - 176s 6s/step - loss: 0.2018 - mse_mel_loss: 0.1051 - mse_mel_postnet_loss: 0.0962 - gate_loss: 5.9175e-04 - val_loss: 1.1655 - val_mse_mel_loss: 0.6320 - val_mse_mel_postnet_loss: 0.5185 - val_gate_loss: 0.0149\n",
      "Epoch 200/200\n",
      "30/30 [==============================] - 177s 6s/step - loss: 0.2041 - mse_mel_loss: 0.1058 - mse_mel_postnet_loss: 0.0977 - gate_loss: 6.8077e-04 - val_loss: 1.1694 - val_mse_mel_loss: 0.6270 - val_mse_mel_postnet_loss: 0.5302 - val_gate_loss: 0.0123\n",
      "\n",
      "Making prediction at step 5750\n",
      "Training lasted 1h 15min 3sec !\n",
      "Submodel tts_model saved in pretrained_models\\sv2tts_fine_tuned\\saving\\tts_model.json !\n"
     ]
    }
   ],
   "source": [
    "epochs          = [25] * 4\n",
    "batch_size      = 16\n",
    "valid_batch_size    = batch_size\n",
    "\n",
    "max_valid_size  = min(int(0.05 * len(dataset)), 256 * valid_batch_size)\n",
    "\n",
    "train_size      = min(1024 * batch_size, len(dataset) - max_valid_size)\n",
    "valid_size      = min(len(dataset) - train_size, max_valid_size)\n",
    "\n",
    "shuffle_size    = 1024\n",
    "pred_step       = -5\n",
    "\n",
    "\"\"\" Custom training hparams \"\"\"\n",
    "augment_prct        = 0.2\n",
    "augment_speaker_embedding   = False\n",
    "\n",
    "trim_audio      = True\n",
    "reduce_noise    = False\n",
    "trim_threshold  = 0.025\n",
    "max_silence     = 0.1\n",
    "trim_method     = 'remove'\n",
    "trim_mode       = 'start_end'\n",
    "\n",
    "trim_mel     = False\n",
    "trim_factor  = 0.6\n",
    "trim_mel_method  = 'max_start_end'\n",
    "\n",
    "# Seems to be interesting for single-speaker fine-tuning\n",
    "# and for a better generalization but seems to slow down convergence \n",
    "use_utterance_embedding = True\n",
    "\n",
    "max_input_length = 75 * 3\n",
    "max_output_length = 512 * 3\n",
    "\n",
    "\"\"\" Training \"\"\"\n",
    "\n",
    "train, valid = train_test_split(\n",
    "    dataset, train_size = train_size, valid_size = valid_size, shuffle = True\n",
    ")\n",
    "\n",
    "print(\"Training samples   : {} - {} batches - {} speakers\".format(\n",
    "    len(train), len(train) // batch_size, len(train['id'].unique())\n",
    "))\n",
    "print(\"Validation samples : {} - {} batches - {} speakers\".format(\n",
    "    len(valid), len(valid) // valid_batch_size, len(valid['id'].unique())\n",
    "))\n",
    "\n",
    "if not isinstance(epochs, list): epochs = [epochs]\n",
    "\n",
    "# This feature seems interesting for singl-speaker fine-tuning\n",
    "# If you want to enable it, put `trainable = False`\n",
    "for epoch_i in range(epochs):\n",
    "    trainable = True\n",
    "    if model.epochs >= 75:\n",
    "        model.tts_model.postnet.trainable = trainable\n",
    "    if model.epochs >= 25:\n",
    "        model.tts_model.encoder.trainable = trainable\n",
    "    if model.epochs >= 175:\n",
    "        model.tts_model.postnet.trainable = True\n",
    "\n",
    "    model.train(\n",
    "        train, validation_data = valid, \n",
    "        epochs = epoch_i, batch_size = batch_size, valid_batch_size = valid_batch_size,\n",
    "\n",
    "        max_input_length = max_input_length, max_output_length = max_output_length,\n",
    "        shuffle_size = shuffle_size, pred_step = pred_step,\n",
    "        augment_prct = augment_prct, augment_speaker_embedding = augment_speaker_embedding,\n",
    "\n",
    "        trim_audio = trim_audio, reduce_noise = reduce_noise, trim_threshold = trim_threshold,\n",
    "        max_silence = max_silence, trim_method = trim_method, trim_mode = trim_mode,\n",
    "\n",
    "        trim_mel = trim_mel, trim_factor = trim_factor, trim_mel_method = trim_mel_method,\n",
    "\n",
    "        use_utterance_embedding = use_utterance_embedding\n",
    "    )\n",
    "\n"
   ]
  },
  {
   "cell_type": "code",
   "execution_count": 5,
   "metadata": {},
   "outputs": [
    {
     "data": {
      "image/png": "[encoded data removed]",
      "text/plain": [
       "<Figure size 720x216 with 2 Axes>"
      ]
     },
     "metadata": {
      "needs_background": "dark"
     },
     "output_type": "display_data"
    },
    {
     "name": "stdout",
     "output_type": "stream",
     "text": [
      "===== History =====\n",
      "     gate_loss      loss  mse_mel_loss  mse_mel_postnet_loss  val_gate_loss  \\\n",
      "0     0.014255  1.115848      0.618151              0.483441       0.011125   \n",
      "1     0.009353  0.776747      0.456221              0.311174       0.010080   \n",
      "2     0.008799  0.736094      0.433986              0.293309       0.010603   \n",
      "3     0.008098  0.717322      0.422392              0.286832       0.011174   \n",
      "4     0.007525  0.698487      0.410769              0.280194       0.010260   \n",
      "5     0.007291  0.680808      0.400190              0.273327       0.010765   \n",
      "6     0.006749  0.656811      0.386646              0.263416       0.012367   \n",
      "7     0.006065  0.656248      0.384379              0.265805       0.010172   \n",
      "8     0.005919  0.630934      0.369394              0.255621       0.011123   \n",
      "9     0.005935  0.618028      0.361547              0.250546       0.013825   \n",
      "10    0.005460  0.616480      0.359966              0.251053       0.013055   \n",
      "11    0.005088  0.593968      0.346858              0.242022       0.013778   \n",
      "12    0.004721  0.588372      0.342679              0.240972       0.014758   \n",
      "13    0.004811  0.572262      0.333134              0.234318       0.012898   \n",
      "14    0.004290  0.576502      0.334263              0.237949       0.013037   \n",
      "15    0.004175  0.559276      0.323826              0.231276       0.013519   \n",
      "16    0.003948  0.561355      0.323759              0.233649       0.013547   \n",
      "17    0.003801  0.537099      0.311154              0.222145       0.012787   \n",
      "18    0.003840  0.544095      0.312611              0.227643       0.012435   \n",
      "19    0.003769  0.525284      0.302468              0.219047       0.013868   \n",
      "20    0.003224  0.519911      0.298650              0.218038       0.016181   \n",
      "21    0.003532  0.518582      0.296793              0.218257       0.014781   \n",
      "22    0.003053  0.513423      0.293461              0.216908       0.014230   \n",
      "23    0.003349  0.506292      0.289030              0.213914       0.013989   \n",
      "24    0.003015  0.492757      0.281570              0.208173       0.018718   \n",
      "25    0.003285  0.533401      0.297928              0.232189       0.014913   \n",
      "26    0.003008  0.510354      0.287030              0.220316       0.016778   \n",
      "27    0.002686  0.509346      0.285110              0.221550       0.016333   \n",
      "28    0.002899  0.496430      0.278044              0.215486       0.014714   \n",
      "29    0.002866  0.494428      0.276233              0.215329       0.018380   \n",
      "..         ...       ...           ...                   ...            ...   \n",
      "170   0.002394  0.227551      0.116766              0.108390       0.013916   \n",
      "171   0.000644  0.228105      0.117923              0.109539       0.011790   \n",
      "172   0.000522  0.222835      0.115120              0.107192       0.011560   \n",
      "173   0.000593  0.223856      0.115463              0.107800       0.013030   \n",
      "174   0.000566  0.223420      0.115446              0.107408       0.013900   \n",
      "175   0.000840  0.231087      0.121498              0.108748       0.014578   \n",
      "176   0.001406  0.239243      0.125550              0.112287       0.014006   \n",
      "177   0.004065  0.233640      0.120736              0.108839       0.014103   \n",
      "178   0.003044  0.229367      0.119267              0.107057       0.013970   \n",
      "179   0.001677  0.222508      0.115857              0.104973       0.013833   \n",
      "180   0.001209  0.223428      0.116439              0.105780       0.013681   \n",
      "181   0.000890  0.225485      0.117614              0.106981       0.014300   \n",
      "182   0.000769  0.220605      0.115485              0.104352       0.015038   \n",
      "183   0.000800  0.221935      0.116189              0.104946       0.014918   \n",
      "184   0.000813  0.216934      0.113340              0.102781       0.015259   \n",
      "185   0.001683  0.215904      0.112263              0.101958       0.014398   \n",
      "186   0.001767  0.215299      0.111848              0.101684       0.015142   \n",
      "187   0.000696  0.214415      0.111776              0.101943       0.016465   \n",
      "188   0.000801  0.213642      0.111569              0.101272       0.015378   \n",
      "189   0.000645  0.211825      0.110258              0.100922       0.016764   \n",
      "190   0.000496  0.210678      0.110162              0.100020       0.016446   \n",
      "191   0.000532  0.213829      0.111909              0.101388       0.015802   \n",
      "192   0.000650  0.209140      0.109256              0.099234       0.016466   \n",
      "193   0.000704  0.217500      0.113661              0.103135       0.015911   \n",
      "194   0.000678  0.204243      0.106387              0.097177       0.017628   \n",
      "195   0.000553  0.204908      0.106697              0.097658       0.016039   \n",
      "196   0.000725  0.207715      0.108038              0.098952       0.016346   \n",
      "197   0.001012  0.207483      0.107871              0.098599       0.016483   \n",
      "198   0.000684  0.202600      0.105382              0.096534       0.014913   \n",
      "199   0.000693  0.202320      0.105273              0.096354       0.012275   \n",
      "\n",
      "     val_loss  val_mse_mel_loss  val_mse_mel_postnet_loss  \n",
      "0    0.767488          0.405563                  0.350800  \n",
      "1    0.755135          0.422850                  0.322205  \n",
      "2    0.701356          0.400763                  0.289990  \n",
      "3    0.624954          0.377892                  0.235887  \n",
      "4    0.636039          0.365471                  0.260308  \n",
      "5    0.778719          0.426815                  0.341139  \n",
      "6    0.599374          0.359609                  0.227397  \n",
      "7    0.658210          0.386426                  0.261612  \n",
      "8    0.619749          0.369220                  0.239407  \n",
      "9    0.654223          0.358155                  0.282244  \n",
      "10   0.638674          0.379555                  0.246064  \n",
      "11   0.589856          0.358368                  0.217710  \n",
      "12   0.648900          0.379087                  0.255055  \n",
      "13   0.648549          0.381260                  0.254391  \n",
      "14   0.607945          0.362341                  0.232567  \n",
      "15   0.672595          0.367644                  0.291432  \n",
      "16   0.633361          0.369264                  0.250550  \n",
      "17   0.658168          0.399952                  0.245429  \n",
      "18   0.591656          0.357678                  0.221543  \n",
      "19   0.666836          0.367692                  0.285276  \n",
      "20   0.666619          0.383454                  0.266985  \n",
      "21   0.646196          0.382293                  0.249122  \n",
      "22   0.642934          0.384345                  0.244359  \n",
      "23   0.645883          0.376300                  0.255594  \n",
      "24   0.655275          0.377055                  0.259502  \n",
      "25   0.613263          0.370733                  0.227617  \n",
      "26   0.645714          0.385867                  0.243068  \n",
      "27   0.635578          0.379039                  0.240206  \n",
      "28   0.622711          0.376660                  0.231337  \n",
      "29   0.685692          0.398162                  0.269150  \n",
      "..        ...               ...                       ...  \n",
      "170  1.102931          0.599305                  0.489710  \n",
      "171  1.090536          0.596318                  0.482428  \n",
      "172  1.080257          0.587990                  0.480707  \n",
      "173  1.108099          0.601657                  0.493412  \n",
      "174  1.071983          0.581695                  0.476388  \n",
      "175  1.125411          0.605310                  0.505522  \n",
      "176  1.093870          0.595578                  0.484285  \n",
      "177  1.123231          0.610542                  0.498586  \n",
      "178  1.107004          0.600880                  0.492154  \n",
      "179  1.134907          0.610779                  0.510295  \n",
      "180  1.129533          0.609272                  0.506580  \n",
      "181  1.119964          0.605599                  0.500066  \n",
      "182  1.129978          0.612489                  0.502452  \n",
      "183  1.109601          0.600580                  0.494103  \n",
      "184  1.155743          0.613217                  0.527267  \n",
      "185  1.119890          0.609547                  0.495945  \n",
      "186  1.151065          0.616369                  0.519554  \n",
      "187  1.143803          0.620840                  0.506498  \n",
      "188  1.136017          0.611348                  0.509291  \n",
      "189  1.145224          0.613984                  0.514476  \n",
      "190  1.177009          0.624300                  0.536264  \n",
      "191  1.124152          0.604925                  0.503424  \n",
      "192  1.168003          0.627246                  0.524290  \n",
      "193  1.128199          0.615175                  0.497113  \n",
      "194  1.180511          0.628917                  0.533966  \n",
      "195  1.150638          0.619184                  0.515415  \n",
      "196  1.176503          0.625159                  0.534998  \n",
      "197  1.169009          0.624340                  0.528186  \n",
      "198  1.165464          0.632002                  0.518549  \n",
      "199  1.169424          0.626964                  0.530186  \n",
      "\n",
      "[200 rows x 8 columns]\n"
     ]
    }
   ],
   "source": [
    "model.plot_history()\n",
    "print(model.history)"
   ]
  },
  {
   "cell_type": "markdown",
   "metadata": {},
   "source": [
    "## Complete inference"
   ]
  },
  {
   "cell_type": "code",
   "execution_count": 2,
   "metadata": {},
   "outputs": [
    {
     "name": "stdout",
     "output_type": "stream",
     "text": [
      "Model restoration...\n",
      "Initializing submodel : vocoder !\n",
      "Successfully restored vocoder from pretrained_models/pretrained_waveglow/saving/vocoder.json !\n",
      "Model pretrained_waveglow initialized successfully !\n",
      "Model restoration...\n",
      "Initializing submodel : tts_model !\n",
      "Optimizer 'tts_model_optimizer' initilized successfully !\n",
      "Submodel tts_model compiled !\n",
      "  Loss : {'reduction': 'none', 'name': 'tacotron_loss', 'mel_loss': 'mse', 'mask_mel_padding': True, 'label_smoothing': 0, 'finish_weight': 1.0, 'not_finish_weight': 1.0, 'from_logits': False}\n",
      "  Optimizer : {'name': 'RMSprop', 'learning_rate': 0.0005000000237487257, 'decay': 0.0, 'rho': 0.8999999761581421, 'momentum': 0.0, 'epsilon': 1e-07, 'centered': False}\n",
      "  Metrics : []\n",
      "Successfully restored tts_model from pretrained_models/sv2tts_fine_tuned/saving/tts_model.json !\n",
      "Model sv2tts_fine_tuned initialized successfully !\n"
     ]
    }
   ],
   "source": [
    "waveglow = WaveGlow()\n",
    "model    = get_pretrained(nom = model_name)"
   ]
  },
  {
   "cell_type": "code",
   "execution_count": 3,
   "metadata": {},
   "outputs": [
    {
     "name": "stdout",
     "output_type": "stream",
     "text": [
      "Loading dataset custom_dataset...\n"
     ]
    }
   ],
   "source": [
    "kwargs = {\n",
    "    'directory'      : '{}/...'.format(get_dataset_dir()),\n",
    "    'type_annots'    : 'identification',\n",
    "    'embedding_dim'  : model.embedding_dim,\n",
    "    'embedding_name' : model.encoder_name\n",
    "}\n",
    "\n",
    "dataset = get_dataset(\n",
    "    'custom_dataset_name', ds_type = 'custom', ** kwargs\n",
    ")\n",
    "if 'indexes' in dataset.columns: dataset.pop('indexes')"
   ]
  },
  {
   "cell_type": "code",
   "execution_count": null,
   "metadata": {},
   "outputs": [],
   "source": [
    "text = \"Bonjour à tous ! J'espère que vous allez aimer cette démonstration de voix en français !\"\n",
    "\n",
    "x = random.randrange(0, len(dataset))\n",
    "print(\"Selected embedding : {}\".format(x))\n",
    "\n",
    "display_audio(dataset.at[x, 'filename'])\n",
    "\n",
    "model.predict(text, vocoder = waveglow, save = False, display = True, embeddings = dataset, mode = x)"
   ]
  },
  {
   "cell_type": "code",
   "execution_count": 20,
   "metadata": {},
   "outputs": [],
   "source": [
    "# To set the 1st embedding as the default one (the one used when calling `predict`)\n",
    "model.set_default_embeddings(dataset.iloc[0 : 1])"
   ]
  },
  {
   "cell_type": "markdown",
   "metadata": {},
   "source": [
    "## Test game\n",
    "\n",
    "This cell will create 8 audios : 4 *true* (copy from the dataset) and 4 *false* (generated by your model. The objective is to distinguish *fake* than *real* audios !"
   ]
  },
  {
   "cell_type": "code",
   "execution_count": null,
   "metadata": {},
   "outputs": [],
   "source": [
    "indexes   = [2, 3, 5, 7] # indexes for the fake audios\n",
    "embedding = select_embedding(ds, mode = 0)\n",
    "\n",
    "dataset = filter_dataset(ds, time = lambda t: t >= 1)\n",
    "for i in range(len(indexes) * 2):\n",
    "    x = random.randrange(len(dataset))\n",
    "    print(\"Selected x for index {} : {} (fake : {})\".format(i, x, i in indexes))\n",
    "    if i in indexes:\n",
    "        text  = dataset.at[x, 'text']\n",
    "        audio = model.predict(\n",
    "            text, vocoder = waveglow, save = False, display = True, embeddings = dataset, mode = x\n",
    "        )[0][1]['audio']\n",
    "    else:\n",
    "        audio = load_audio(dataset.at[x, 'filename'], rate)\n",
    "    \n",
    "    display_audio(audio, rate = rate)\n",
    "    write_audio(audio = audio, filename = 'game/audio/audio_{}.mp3'.format(i), rate = model.audio_rate)\n"
   ]
  },
  {
   "cell_type": "markdown",
   "metadata": {},
   "source": [
    "## Waveglow inference on training generated audios\n",
    "\n",
    "This is a demonstration on prediction at step 500 so it is normal that inference is so bad ;)"
   ]
  },
  {
   "cell_type": "code",
   "execution_count": null,
   "metadata": {},
   "outputs": [],
   "source": [
    "def infer_with_target(model_name, step, n, mode, save = False, display = True):\n",
    "    if mode == 'train':\n",
    "        directory = os.path.join('pretrained_models', model_name, 'training-logs', 'eval', 'mels')\n",
    "        filename = 'pred_step-{:06d}_{}_target.npy'.format(step, n)\n",
    "        pred_filename = 'pred_step-{:06d}_{}_pred.npy'.format(step, n)\n",
    "        infer_filename = 'pred_step-{:06d}_{}_infer.npy'.format(step, n)\n",
    "    else:\n",
    "        directory = os.path.join('pretrained_models', model_name, 'outputs', 'mels')\n",
    "        filename = 'pred_{}_target.npy'.format(n)\n",
    "        pred_filename = 'pred_{}_pred.npy'.format(n)\n",
    "        infer_filename = 'pred_{}_infer.npy'.format(n)\n",
    "\n",
    "    if not os.path.exists(os.path.join(directory, filename)): return\n",
    "    \n",
    "    target = np.load(os.path.join(directory, filename))\n",
    "    pred   = np.load(os.path.join(directory, pred_filename))\n",
    "    infer  = np.load(os.path.join(directory, infer_filename))\n",
    "    \n",
    "    audio       = waveglow.infer(target)\n",
    "    audio_pred  = waveglow.infer(pred)\n",
    "    audio_infer = waveglow.infer(infer)\n",
    "\n",
    "    _ = display_audio(audio, rate = rate)\n",
    "    _ = display_audio(audio_pred, rate = rate)\n",
    "    _ = display_audio(audio_infer, rate = rate)\n",
    "    \n",
    "    if save:\n",
    "        save_dir = directory.replace('mels', 'audios')\n",
    "        os.makedirs(save_dir, exist_ok = True)\n",
    "        write_audio(audio, os.path.join(save_dir, filename[:-3] + 'mp3'), rate = rate)\n",
    "        write_audio(audio_pred, os.path.join(save_dir, pred_filename[:-3] + 'mp3'), rate = rate)\n",
    "        write_audio(audio_infer, os.path.join(save_dir, infer_filename[:-3] + 'mp3'), rate = rate)\n",
    "    \n",
    "    plot_spectrogram(\n",
    "        target = target, prediction = pred, inference = infer\n",
    "    )\n",
    "\n",
    "waveglow = get_architecture('nvidia_waveglow')"
   ]
  },
  {
   "cell_type": "code",
   "execution_count": null,
   "metadata": {},
   "outputs": [],
   "source": [
    "step, mode = 500, 'train'\n",
    "\n",
    "for n in range(5):\n",
    "    infer_with_target(model_name, step, n, mode)\n"
   ]
  },
  {
   "cell_type": "markdown",
   "metadata": {},
   "source": [
    "## Tests"
   ]
  },
  {
   "cell_type": "code",
   "execution_count": null,
   "metadata": {},
   "outputs": [],
   "source": [
    "from custom_train_objects.optimizers import WarmupScheduler\n",
    "\n",
    "lr = WarmupScheduler(maxval = 75e-5, minval = 25e-5, factor = 1024)\n",
    "print(lr.get_config())\n",
    "lr.plot(1024 * 10)"
   ]
  },
  {
   "cell_type": "code",
   "execution_count": null,
   "metadata": {},
   "outputs": [],
   "source": []
  }
 ],
 "metadata": {
  "kernelspec": {
   "display_name": "Python 3 (ipykernel)",
   "language": "python",
   "name": "python3"
  },
  "language_info": {
   "codemirror_mode": {
    "name": "ipython",
    "version": 3
   },
   "file_extension": ".py",
   "mimetype": "text/x-python",
   "name": "python",
   "nbconvert_exporter": "python",
   "pygments_lexer": "ipython3",
   "version": "3.10.5"
  }
 },
 "nbformat": 4,
 "nbformat_minor": 4
}
