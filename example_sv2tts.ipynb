{
 "cells": [
  {
   "cell_type": "markdown",
   "metadata": {},
   "source": [
    "# SV2TTS Tacotron-2 training\n",
    "\n",
    "This notebook shows how to create (with *partial transfer learning*), train and use the `SV2TTS` architecture (see the `README` file for more information)\n",
    "\n",
    "The structure of this notebook is exactly the same as `example_tacotron2`, check it if you want more details on each part ;)"
   ]
  },
  {
   "cell_type": "markdown",
   "metadata": {},
   "source": [
    "## Imports + model creation"
   ]
  },
  {
   "cell_type": "code",
   "execution_count": 1,
   "metadata": {},
   "outputs": [
    {
     "name": "stdout",
     "output_type": "stream",
     "text": [
      "Tensorflow version : 2.10.0\n",
      "Available GPU's : [PhysicalDevice(name='/physical_device:GPU:0', device_type='GPU')]\n"
     ]
    }
   ],
   "source": [
    "import os\n",
    "import random\n",
    "import numpy as np\n",
    "import pandas as pd\n",
    "import tensorflow as tf\n",
    "\n",
    "from models import get_pretrained\n",
    "from models.tts import SV2TTSTacotron2, WaveGlow\n",
    "from datasets import get_dataset, train_test_split\n",
    "from utils import plot_spectrogram, select_embedding, limit_gpu_memory\n",
    "from utils.text import default_french_encoder\n",
    "from utils.audio import display_audio, load_audio\n",
    "\n",
    "gpus = tf.config.list_physical_devices('GPU')\n",
    "\n",
    "rate = 22050\n",
    "model_name = 'sv2tts_tacotron2_256_v2_2'\n",
    "\n",
    "print(\"Tensorflow version : {}\".format(tf.__version__))\n",
    "print(\"Available GPU's : {}\".format(gpus))"
   ]
  },
  {
   "cell_type": "code",
   "execution_count": 2,
   "metadata": {},
   "outputs": [
    {
     "name": "stdout",
     "output_type": "stream",
     "text": [
      "========== Text encoder ==========\n",
      "Vocab (size = 148) : ['_', '-', '!', \"'\", '(', ')', ',', '.', ':', ';', '?', ' ', 'A', 'B', 'C', 'D', 'E', 'F', 'G', 'H', 'I', 'J', 'K', 'L', 'M', 'N', 'O', 'P', 'Q', 'R', 'S', 'T', 'U', 'V', 'W', 'X', 'Y', 'Z', 'a', 'b', 'c', 'd', 'e', 'f', 'g', 'h', 'i', 'j', 'k', 'l']\n",
      "Config : {\n",
      "  \"level\": 0,\n",
      "  \"lstrip\": false,\n",
      "  \"rstrip\": false,\n",
      "  \"cleaners\": [\n",
      "    {\n",
      "      \"name\": \"french_cleaners\",\n",
      "      \"to_lowercase\": false\n",
      "    }\n",
      "  ],\n",
      "  \"split_pattern\": null,\n",
      "  \"bpe_end_of_word\": null,\n",
      "  \"pad_token\": \"\",\n",
      "  \"sep_token\": null,\n",
      "  \"ukn_token\": null,\n",
      "  \"sos_token\": \"[SOS]\",\n",
      "  \"eos_token\": \"[EOS]\",\n",
      "  \"mask_token\": null,\n",
      "  \"sub_word_prefix\": \"\",\n",
      "  \"use_sos_and_eos\": false\n",
      "}\n"
     ]
    }
   ],
   "source": [
    "# This special cleaner allow to not lowercase the text \n",
    "# see my data_processing repository for more examples on text encoding / cleaners\n",
    "# If you want lowercase, you just have to remove the \"cleaners\" argument from default_french_encoder()\n",
    "cleaners = [\n",
    "    {'name' : 'french_cleaners', 'to_lowercase' : False}\n",
    "]\n",
    "\n",
    "encoder = default_french_encoder(vocab_size = 148, cleaners = cleaners)\n",
    "print(encoder)\n",
    "\n",
    "config = {\n",
    "    'nom' : model_name,\n",
    "    'lang' : 'fr',\n",
    "    'text_encoder'  : encoder,\n",
    "    'encoder_name'  : 'audio_encoder_256_mel_lstm',\n",
    "    'embedding_dim' : 256,\n",
    "    'use_label_embedding' : False\n",
    "}"
   ]
  },
  {
   "cell_type": "code",
   "execution_count": null,
   "metadata": {},
   "outputs": [],
   "source": [
    "model = SV2TTSTacotron2.from_nvidia_pretrained(** config)\n",
    "print(model)\n"
   ]
  },
  {
   "cell_type": "code",
   "execution_count": 3,
   "metadata": {},
   "outputs": [
    {
     "name": "stdout",
     "output_type": "stream",
     "text": [
      "Model restoration...\n",
      "Initializing submodel : `tts_model` !\n",
      "Successfully restored tts_model from pretrained_models/tacotron2_siwis/saving/tts_model.json !\n",
      "Model tacotron2_siwis initialized successfully !\n",
      "Initializing model with kwargs : {'tts_model': {'architecture_name': 'tacotron2', 'pad_token': 0, 'vocab_size': 148, 'n_mel_channels': 80, 'init_step': 0, 'encoder_speaker_embedding_dim': 256}}\n",
      "Initializing submodel : `tts_model` !\n",
      "Submodel tts_model saved in pretrained_models\\sv2tts_tacotron2_256\\saving\\tts_model.json !\n",
      "Model sv2tts_tacotron2_256 initialized successfully !\n",
      "Variables 27 shapes mismatch ((1024, 4096) vs (768, 4096)), making partial transfer\n",
      "Variables 31 shapes mismatch ((768, 128) vs (512, 128)), making partial transfer\n",
      "Variables 35 shapes mismatch ((1792, 4096) vs (1536, 4096)), making partial transfer\n",
      "Variables 38 shapes mismatch ((1792, 80) vs (1536, 80)), making partial transfer\n",
      "Variables 40 shapes mismatch ((1792, 1) vs (1536, 1)), making partial transfer\n",
      "Weights transfered successfully !\n",
      "Submodel tts_model saved in pretrained_models\\sv2tts_tacotron2_256\\saving\\tts_model.json !\n",
      "\n",
      "========== sv2tts_tacotron2_256 ==========\n",
      "Sub model tts_model\n",
      "- Inputs \t: unknown\n",
      "- Outputs \t: unknown\n",
      "- Number of layers \t: 3\n",
      "- Number of parameters \t: 30.341 Millions\n",
      "- Model not compiled\n",
      "\n",
      "Transfer-learning from : tacotron2_siwis\n",
      "Already trained on 0 epochs (0 steps)\n",
      "\n",
      "- Language : fr\n",
      "- Vocabulary (size = 148) : ['_', '-', '!', \"'\", '(', ')', ',', '.', ':', ';', '?', ' ', 'A', 'B', 'C', 'D', 'E', 'F', 'G', 'H', 'I', 'J', 'K', 'L', 'M', ...]\n",
      "- Audio rate : 22050\n",
      "- # mel channels : 80\n",
      "- Embedding's dim : 256\n",
      "- Encoder's name : audio_siamese_256_mel_lstm\n",
      "\n"
     ]
    }
   ],
   "source": [
    "model = SV2TTSTacotron2.from_pretrained(pretrained_name = 'tacotron2_siwis', ** config)\n",
    "print(model)\n"
   ]
  },
  {
   "cell_type": "code",
   "execution_count": null,
   "metadata": {},
   "outputs": [],
   "source": [
    "pretrained_name = 'sv2tts_tacotron2_256'\n",
    "\n",
    "model = SV2TTSTacotron2.from_pretrained(\n",
    "    pretrained_name = pretrained_name, ** config\n",
    ")\n",
    "print(model)\n"
   ]
  },
  {
   "cell_type": "markdown",
   "metadata": {},
   "source": [
    "## Model initialization + dataset loading"
   ]
  },
  {
   "cell_type": "code",
   "execution_count": 2,
   "metadata": {},
   "outputs": [
    {
     "name": "stdout",
     "output_type": "stream",
     "text": [
      "Model restoration...\n",
      "Initializing submodel : `tts_model` !\n",
      "Optimizer 'tts_model_optimizer' initilized successfully !\n",
      "Successfully restored tts_model from pretrained_models/sv2tts_tacotron2_256_v2_2/saving/tts_model.json !\n",
      "[WARNING] Some layers have not bene restored from the checkpoint ! Run `model.load_checkpoint().assert_consumed()` to check if it is a critical error or not\n",
      "Model sv2tts_tacotron2_256_v2_2 initialized successfully !\n",
      "Model tts_model is already compiled !\n",
      "\n",
      "========== sv2tts_tacotron2_256_v2_2 ==========\n",
      "Sub model tts_model\n",
      "- Inputs \t: unknown\n",
      "- Outputs \t: unknown\n",
      "- Number of layers \t: 3\n",
      "- Number of parameters \t: 30.341 Millions\n",
      "- Optimizer \t: {'name': 'RMSprop', 'learning_rate': {'class_name': 'DivideByStep', 'config': {'factor': <tf.Tensor: shape=(), dtype=float32, numpy=0.1>, 'minval': <tf.Tensor: shape=(), dtype=float32, numpy=0.00025>, 'maxval': <tf.Tensor: shape=(), dtype=float32, numpy=0.00075>}}, 'decay': 0.0, 'rho': 0.8999999761581421, 'momentum': 0.0, 'epsilon': 1e-07, 'centered': False}\n",
      "- Loss \t : {'reduction': 'none', 'name': 'tacotron_loss', 'mel_loss': 'mse', 'mask_mel_padding': True, 'label_smoothing': 0, 'finish_weight': 1.0, 'not_finish_weight': 1.0, 'from_logits': False}\n",
      "- Metrics\t : []\n",
      "\n",
      "Transfer-learning from : sv2tts_tacotron2_256_v2\n",
      "Already trained on 15 epochs (83309 steps)\n",
      "\n",
      "- Language : fr\n",
      "- Vocabulary (size = 148) : ['_', '-', '!', \"'\", '(', ')', ',', '.', ':', ';', '?', ' ', 'A', 'B', 'C', 'D', 'E', 'F', 'G', 'H', 'I', 'J', 'K', 'L', 'M', ...]\n",
      "- Audio rate : 22050\n",
      "- # mel channels : 80\n",
      "- Embedding's dim : 256\n",
      "- Encoder's name : audio_encoder_256_mel_lstm\n",
      "\n"
     ]
    }
   ],
   "source": [
    "model = get_pretrained(model_name)\n",
    "\n",
    "lr = { 'name': 'WarmupScheduler', 'maxval' : 75e-5, 'minval' : 25e-5, 'factor' : 1024, 'warmup_steps' : 2048}\n",
    "lr = 5e-4\n",
    "\n",
    "model.compile(\n",
    "    optimizer = 'adam', optimizer_config = {'lr' : lr}\n",
    ")\n",
    "\n",
    "print(model)"
   ]
  },
  {
   "cell_type": "code",
   "execution_count": 5,
   "metadata": {},
   "outputs": [
    {
     "name": "stdout",
     "output_type": "stream",
     "text": [
      "Loading dataset siwis...\n",
      "Loading dataset voxforge...\n",
      "Dataset length : 32432 (2258 speakers)\n"
     ]
    }
   ],
   "source": [
    "kwargs = {\n",
    "    'embedding_dim'  : model.embedding_dim,\n",
    "    'embedding_name' : model.encoder_name\n",
    "}\n",
    "\n",
    "datasets = ['siwis', 'voxforge', 'common_voice']\n",
    "datasets = ['siwis', 'voxforge']\n",
    "\n",
    "dataset = get_dataset(\n",
    "    datasets, accent = 'france', shuffle = True, ** kwargs\n",
    ")\n",
    "# If the dataset is a dict, it is typically a STT dataset where\n",
    "# validation set contains \"new speakers\" but it is not relevant for this model\n",
    "# because generalization to new speakers is really hard and only interesting if datasets\n",
    "# have many speakers (>> 1k) (which is really rare in TTS datasets)\n",
    "if isinstance(dataset, dict): dataset = dataset['train']\n",
    "#dataset = filter_dataset(dataset, duree = lambda d: d < 11)\n",
    "\n",
    "print(\"Dataset length : {} ({} speakers)\".format(\n",
    "    len(dataset), len(dataset['id'].unique())\n",
    "))\n"
   ]
  },
  {
   "cell_type": "markdown",
   "metadata": {},
   "source": [
    "The model requires `text`, `filename` and `embedding` (or `speaker_embedding`) columns. The `wavs_22050` allows to directly load resampled audio (which speeds up training). "
   ]
  },
  {
   "cell_type": "code",
   "execution_count": 6,
   "metadata": {},
   "outputs": [
    {
     "data": {
      "text/html": [
       "<div>\n",
       "<style scoped>\n",
       "    .dataframe tbody tr th:only-of-type {\n",
       "        vertical-align: middle;\n",
       "    }\n",
       "\n",
       "    .dataframe tbody tr th {\n",
       "        vertical-align: top;\n",
       "    }\n",
       "\n",
       "    .dataframe thead th {\n",
       "        text-align: right;\n",
       "    }\n",
       "</style>\n",
       "<table border=\"1\" class=\"dataframe\">\n",
       "  <thead>\n",
       "    <tr style=\"text-align: right;\">\n",
       "      <th></th>\n",
       "      <th>text</th>\n",
       "      <th>filename</th>\n",
       "      <th>wavs_16000</th>\n",
       "      <th>wavs_22050</th>\n",
       "      <th>id</th>\n",
       "      <th>embedding</th>\n",
       "      <th>speaker_embedding</th>\n",
       "      <th>time</th>\n",
       "      <th>dataset_name</th>\n",
       "    </tr>\n",
       "  </thead>\n",
       "  <tbody>\n",
       "    <tr>\n",
       "      <th>22592</th>\n",
       "      <td>Elles dérobent le génie De leurs mollets sous ...</td>\n",
       "      <td>D:/datasets/VoxForge/fr/ThinkroSystem-20130909...</td>\n",
       "      <td>D:/datasets/VoxForge\\fr\\ThinkroSystem-20130909...</td>\n",
       "      <td>D:/datasets/VoxForge\\fr\\ThinkroSystem-20130909...</td>\n",
       "      <td>ThinkroSystem-20130909-ohz</td>\n",
       "      <td>[-6.6477132e-06, 2.300845e-05, -3.556684e-06, ...</td>\n",
       "      <td>[-4.1663825e-06, 1.6285456e-05, -1.5146153e-06...</td>\n",
       "      <td>-1.0</td>\n",
       "      <td>VoxForge</td>\n",
       "    </tr>\n",
       "    <tr>\n",
       "      <th>21084</th>\n",
       "      <td>C’est là où le peuple des mers vient se remont...</td>\n",
       "      <td>D:/datasets/VoxForge/fr/luxurien-20140916-axi/...</td>\n",
       "      <td>D:/datasets/VoxForge\\fr\\luxurien-20140916-axi\\...</td>\n",
       "      <td>D:/datasets/VoxForge\\fr\\luxurien-20140916-axi\\...</td>\n",
       "      <td>luxurien-20140916-axi</td>\n",
       "      <td>[2.0653886e-06, 0.00014578477, 0.0011611554, -...</td>\n",
       "      <td>[1.5238817e-05, -6.1733554e-06, 0.0009603618, ...</td>\n",
       "      <td>-1.0</td>\n",
       "      <td>VoxForge</td>\n",
       "    </tr>\n",
       "    <tr>\n",
       "      <th>17401</th>\n",
       "      <td>Après deux heures et demie de descente, ils at...</td>\n",
       "      <td>D:/datasets/VoxForge/fr/JulienFlajollet-201111...</td>\n",
       "      <td>D:/datasets/VoxForge\\fr\\JulienFlajollet-201111...</td>\n",
       "      <td>D:/datasets/VoxForge\\fr\\JulienFlajollet-201111...</td>\n",
       "      <td>JulienFlajollet-20111127-gef</td>\n",
       "      <td>[-1.2153155e-06, -7.171757e-06, 8.789301e-05, ...</td>\n",
       "      <td>[7.8305426e-08, 1.701442e-05, 0.0001244416, -1...</td>\n",
       "      <td>-1.0</td>\n",
       "      <td>VoxForge</td>\n",
       "    </tr>\n",
       "    <tr>\n",
       "      <th>24603</th>\n",
       "      <td>Certains, malgré leur ancienneté en français, ...</td>\n",
       "      <td>D:/datasets/VoxForge/fr/Mariane-20090910-pvf/w...</td>\n",
       "      <td>D:/datasets/VoxForge\\fr\\Mariane-20090910-pvf\\w...</td>\n",
       "      <td>D:/datasets/VoxForge\\fr\\Mariane-20090910-pvf\\w...</td>\n",
       "      <td>Mariane-20090910-pvf</td>\n",
       "      <td>[1.2937538e-06, -0.0006881901, 8.857657e-05, -...</td>\n",
       "      <td>[-5.361458e-07, -0.00028032923, 6.740652e-05, ...</td>\n",
       "      <td>-1.0</td>\n",
       "      <td>VoxForge</td>\n",
       "    </tr>\n",
       "    <tr>\n",
       "      <th>731</th>\n",
       "      <td>Ce n’est pas un geste anodin.</td>\n",
       "      <td>D:/datasets/SIWIS/fr/wavs/part1/neut_parl_s04_...</td>\n",
       "      <td>D:/datasets/SIWIS\\fr\\wavs_16000\\part1\\neut_par...</td>\n",
       "      <td>D:/datasets/SIWIS\\fr\\wavs_22050\\part1\\neut_par...</td>\n",
       "      <td>siwis</td>\n",
       "      <td>[-9.350708e-06, 4.624893e-05, -2.1542333e-05, ...</td>\n",
       "      <td>[-3.8699536e-06, 7.383372e-05, -1.0864748e-05,...</td>\n",
       "      <td>-1.0</td>\n",
       "      <td>siwis</td>\n",
       "    </tr>\n",
       "  </tbody>\n",
       "</table>\n",
       "</div>"
      ],
      "text/plain": [
       "                                                    text   \n",
       "22592  Elles dérobent le génie De leurs mollets sous ...  \\\n",
       "21084  C’est là où le peuple des mers vient se remont...   \n",
       "17401  Après deux heures et demie de descente, ils at...   \n",
       "24603  Certains, malgré leur ancienneté en français, ...   \n",
       "731                        Ce n’est pas un geste anodin.   \n",
       "\n",
       "                                                filename   \n",
       "22592  D:/datasets/VoxForge/fr/ThinkroSystem-20130909...  \\\n",
       "21084  D:/datasets/VoxForge/fr/luxurien-20140916-axi/...   \n",
       "17401  D:/datasets/VoxForge/fr/JulienFlajollet-201111...   \n",
       "24603  D:/datasets/VoxForge/fr/Mariane-20090910-pvf/w...   \n",
       "731    D:/datasets/SIWIS/fr/wavs/part1/neut_parl_s04_...   \n",
       "\n",
       "                                              wavs_16000   \n",
       "22592  D:/datasets/VoxForge\\fr\\ThinkroSystem-20130909...  \\\n",
       "21084  D:/datasets/VoxForge\\fr\\luxurien-20140916-axi\\...   \n",
       "17401  D:/datasets/VoxForge\\fr\\JulienFlajollet-201111...   \n",
       "24603  D:/datasets/VoxForge\\fr\\Mariane-20090910-pvf\\w...   \n",
       "731    D:/datasets/SIWIS\\fr\\wavs_16000\\part1\\neut_par...   \n",
       "\n",
       "                                              wavs_22050   \n",
       "22592  D:/datasets/VoxForge\\fr\\ThinkroSystem-20130909...  \\\n",
       "21084  D:/datasets/VoxForge\\fr\\luxurien-20140916-axi\\...   \n",
       "17401  D:/datasets/VoxForge\\fr\\JulienFlajollet-201111...   \n",
       "24603  D:/datasets/VoxForge\\fr\\Mariane-20090910-pvf\\w...   \n",
       "731    D:/datasets/SIWIS\\fr\\wavs_22050\\part1\\neut_par...   \n",
       "\n",
       "                                 id   \n",
       "22592    ThinkroSystem-20130909-ohz  \\\n",
       "21084         luxurien-20140916-axi   \n",
       "17401  JulienFlajollet-20111127-gef   \n",
       "24603          Mariane-20090910-pvf   \n",
       "731                           siwis   \n",
       "\n",
       "                                               embedding   \n",
       "22592  [-6.6477132e-06, 2.300845e-05, -3.556684e-06, ...  \\\n",
       "21084  [2.0653886e-06, 0.00014578477, 0.0011611554, -...   \n",
       "17401  [-1.2153155e-06, -7.171757e-06, 8.789301e-05, ...   \n",
       "24603  [1.2937538e-06, -0.0006881901, 8.857657e-05, -...   \n",
       "731    [-9.350708e-06, 4.624893e-05, -2.1542333e-05, ...   \n",
       "\n",
       "                                       speaker_embedding  time dataset_name  \n",
       "22592  [-4.1663825e-06, 1.6285456e-05, -1.5146153e-06...  -1.0     VoxForge  \n",
       "21084  [1.5238817e-05, -6.1733554e-06, 0.0009603618, ...  -1.0     VoxForge  \n",
       "17401  [7.8305426e-08, 1.701442e-05, 0.0001244416, -1...  -1.0     VoxForge  \n",
       "24603  [-5.361458e-07, -0.00028032923, 6.740652e-05, ...  -1.0     VoxForge  \n",
       "731    [-3.8699536e-06, 7.383372e-05, -1.0864748e-05,...  -1.0        siwis  "
      ]
     },
     "execution_count": 6,
     "metadata": {},
     "output_type": "execute_result"
    }
   ],
   "source": [
    "dataset.head()"
   ]
  },
  {
   "cell_type": "markdown",
   "metadata": {},
   "source": [
    "## Training"
   ]
  },
  {
   "cell_type": "code",
   "execution_count": null,
   "metadata": {},
   "outputs": [],
   "source": [
    "epochs          = 5\n",
    "batch_size      = 32\n",
    "valid_batch_size    = batch_size\n",
    "\n",
    "max_valid_size  = min(int(0.1 * len(dataset)), 256 * valid_batch_size)\n",
    "\n",
    "train_size      = min(1024 * batch_size, len(dataset) - max_valid_size)\n",
    "valid_size      = min(len(dataset) - train_size, max_valid_size)\n",
    "\n",
    "shuffle_size    = batch_size * 16\n",
    "pred_step       = -1\n",
    "\n",
    "\"\"\" Custom training hparams \"\"\"\n",
    "augment_prct        = 0.25\n",
    "augment_embedding   = False\n",
    "\n",
    "trim_audio      = True\n",
    "reduce_noise    = True if 'common_voice' in datasets else False\n",
    "trim_threshold  = 0.075\n",
    "max_silence     = 0.1\n",
    "trim_method     = 'window'\n",
    "trim_mode       = 'start_end'\n",
    "\n",
    "trim_mel     = False\n",
    "trim_factor  = 0.6\n",
    "trim_mel_method  = 'max_start_end'\n",
    "\n",
    "# Seems to be interesting for single-speaker fine-tuning\n",
    "# and for a better generalization but seems to slow down convergence \n",
    "use_label_embedding = False\n",
    "\n",
    "max_input_length = 75\n",
    "max_output_length = 512\n",
    "\n",
    "\"\"\" Training \"\"\"\n",
    "\n",
    "dataset = dataset[dataset['text'].apply(lambda t: len(t) < max_input_length)]\n",
    "train, valid = train_test_split(\n",
    "    dataset, train_size = train_size, valid_size = valid_size, shuffle = True\n",
    ")\n",
    "\n",
    "print(\"Training samples   : {} - {} batches - {} speakers\".format(\n",
    "    len(train), len(train) // batch_size, len(train['id'].unique())\n",
    "))\n",
    "print(\"Validation samples : {} - {} batches - {} speakers\".format(\n",
    "    len(valid), len(valid) // valid_batch_size, len(valid['id'].unique())\n",
    "))\n",
    "\n",
    "# This feature seems interesting for singl-speaker fine-tuning\n",
    "# If you want to enable it, put `trainable = False`\n",
    "trainable = False\n",
    "if model.epochs >= 5:\n",
    "    model.tts_model.postnet.trainable = trainable\n",
    "if model.epochs >= 10:\n",
    "    model.tts_model.encoder.trainable = trainable\n",
    "\n",
    "model.train(\n",
    "    train, validation_data = valid, \n",
    "    epochs = epochs, batch_size = batch_size, valid_batch_size = valid_batch_size,\n",
    "\n",
    "    max_input_length = max_input_length, max_output_length = max_output_length,\n",
    "    shuffle_size = shuffle_size, pred_step = pred_step,\n",
    "    augment_prct = augment_prct, augment_embedding = augment_embedding,\n",
    "    \n",
    "    trim_audio = trim_audio, reduce_noise = reduce_noise, trim_threshold = trim_threshold,\n",
    "    max_silence = max_silence, trim_method = trim_method, trim_mode = trim_mode,\n",
    "    \n",
    "    trim_mel = trim_mel, trim_factor = trim_factor, trim_mel_method = trim_mel_method,\n",
    "    \n",
    "    use_label_embedding = use_label_embedding\n",
    ")\n",
    "\n"
   ]
  },
  {
   "cell_type": "code",
   "execution_count": null,
   "metadata": {},
   "outputs": [],
   "source": [
    "model.plot_history()\n",
    "print(model.history)"
   ]
  },
  {
   "cell_type": "markdown",
   "metadata": {},
   "source": [
    "## Prediction / inference"
   ]
  },
  {
   "cell_type": "markdown",
   "metadata": {},
   "source": [
    "### Prediction with target\n",
    "\n",
    "This cell allows you to make prediction **with** target : it means the model will perform an inference and a prediction (as during training)\n",
    "\n",
    "Next you can make the `waveglow inference` with the section related to `prediction on training generated` (you just have to replace `mode = 'train'` by `mode = 'pred'`)"
   ]
  },
  {
   "cell_type": "code",
   "execution_count": null,
   "metadata": {},
   "outputs": [],
   "source": [
    "config = model.get_dataset_config(batch_size = 1, cache = False, is_validation = True)\n",
    "\n",
    "sub_ds = valid.sample(15, random_state = 1024)\n",
    "ds     = prepare_dataset(sub_ds, ** config)\n",
    "\n",
    "for i, batch in enumerate(ds):\n",
    "    model.predict_with_target(\n",
    "        batch, step = 'test', prefix = 'pred_{}'.format(i),\n",
    "        directory = model.pred_dir, show = True\n",
    "    )\n"
   ]
  },
  {
   "cell_type": "markdown",
   "metadata": {},
   "source": [
    "### Prediction without target\n",
    "\n",
    "This cell performs an inference **without** target (i.e. by setting the text you want) !\n",
    "\n",
    "The first cell is only required if you have never trained your model as the model does not have any *default embedding* at its initialization. If you explicitely gives an `embedding` (with the `embeddings` parameter), this cell is also not required."
   ]
  },
  {
   "cell_type": "code",
   "execution_count": 4,
   "metadata": {},
   "outputs": [
    {
     "name": "stdout",
     "output_type": "stream",
     "text": [
      "Loading dataset siwis...\n"
     ]
    }
   ],
   "source": [
    "kwargs = {\n",
    "    'embedding_name' : model.encoder_name\n",
    "}\n",
    "\n",
    "datasets = 'siwis'\n",
    "\n",
    "dataset = get_dataset(datasets, ** kwargs)\n",
    "\n",
    "embeddings = dataset.sample(10)\n",
    "#model.set_default_embeddings(embeddings)"
   ]
  },
  {
   "cell_type": "code",
   "execution_count": null,
   "metadata": {},
   "outputs": [],
   "source": [
    "text = \"Bonjour le monde !\"\n",
    "\n",
    "model.predict(text, overwrite = True, save = True)"
   ]
  },
  {
   "cell_type": "markdown",
   "metadata": {},
   "source": [
    "## Complete inference\n",
    "\n",
    "These cells performs a complete inference (i.e. with the `vocoder` part). \n",
    "\n",
    "Note that if you want to use `PtWaveGlow` instead of `WaveGlow`, it is required to restart your kernel, then execute the 1st cell (imports), and finally the cells below. You **must** first instanciate the `PtWaveGlow` model, which internally calls `limit_gpu_memory`, to reduce the visible GPU memory for `tensorflow` (to ensure the coexistance of both libraries). "
   ]
  },
  {
   "cell_type": "code",
   "execution_count": 6,
   "metadata": {},
   "outputs": [
    {
     "name": "stdout",
     "output_type": "stream",
     "text": [
      "Model restoration...\n",
      "Initializing submodel : `vocoder` !\n",
      "Successfully restored vocoder from pretrained_models/WaveGlow/saving/vocoder.json !\n",
      "[WARNING] Some layers have not bene restored from the checkpoint ! Run `model.load_checkpoint().assert_consumed()` to check if it is a critical error or not\n",
      "Model WaveGlow initialized successfully !\n"
     ]
    }
   ],
   "source": [
    "waveglow = WaveGlow() #PtWaveGlow()\n",
    "model    = get_pretrained(model_name)"
   ]
  },
  {
   "cell_type": "code",
   "execution_count": 7,
   "metadata": {},
   "outputs": [
    {
     "name": "stdout",
     "output_type": "stream",
     "text": [
      "Loading dataset siwis...\n",
      "Loading dataset voxforge...\n"
     ]
    }
   ],
   "source": [
    "kwargs = {\n",
    "    'embedding_name' : model.encoder_name\n",
    "}\n",
    "\n",
    "datasets = ['siwis', 'voxforge']\n",
    "\n",
    "dataset = get_dataset(\n",
    "    datasets, accent = 'france', shuffle = True, ** kwargs\n",
    ")"
   ]
  },
  {
   "cell_type": "code",
   "execution_count": null,
   "metadata": {},
   "outputs": [],
   "source": [
    "text = \"Bonjour tout le monde ! Voici une démonstration du modèle en français.\"\n",
    "\n",
    "# Select an embedding and display original speaker audio associated to this embedding\n",
    "x = random.randrange(0, len(dataset))\n",
    "display_audio(dataset.at[x, 'filename'])\n",
    "\n",
    "embedding = select_embedding(dataset, mode = x)\n",
    "\n",
    "silence = np.zeros((int(rate * 0.15),))\n",
    "audios = []\n",
    "if not isinstance(text, list): text = [text]\n",
    "\n",
    "model.predict(text, embeddings = dataset, mode = x, vocoder = waveglow, save = False, display = True)"
   ]
  },
  {
   "cell_type": "markdown",
   "metadata": {},
   "source": [
    "## Waveglow inference on training generated audios\n",
    "\n",
    "This is a demonstration on prediction at step 500 so it is normal that inference is so bad ;)"
   ]
  },
  {
   "cell_type": "code",
   "execution_count": null,
   "metadata": {},
   "outputs": [],
   "source": [
    "def infer_with_target(model_name, step, n, mode, save = False, display = True):\n",
    "    if mode == 'train':\n",
    "        directory = os.path.join('pretrained_models', model_name, 'training-logs', 'eval', 'mels')\n",
    "        filename = 'pred_step-{:06d}_{}_target.npy'.format(step, n)\n",
    "        pred_filename = 'pred_step-{:06d}_{}_pred.npy'.format(step, n)\n",
    "        infer_filename = 'pred_step-{:06d}_{}_infer.npy'.format(step, n)\n",
    "    else:\n",
    "        directory = os.path.join('pretrained_models', model_name, 'outputs', 'mels')\n",
    "        filename = 'pred_{}_target.npy'.format(n)\n",
    "        pred_filename = 'pred_{}_pred.npy'.format(n)\n",
    "        infer_filename = 'pred_{}_infer.npy'.format(n)\n",
    "\n",
    "    if not os.path.exists(os.path.join(directory, filename)): return\n",
    "    \n",
    "    target = np.load(os.path.join(directory, filename))\n",
    "    pred   = np.load(os.path.join(directory, pred_filename))\n",
    "    infer  = np.load(os.path.join(directory, infer_filename))\n",
    "    \n",
    "    audio       = waveglow.infer(target)\n",
    "    audio_pred  = waveglow.infer(pred)\n",
    "    audio_infer = waveglow.infer(infer)\n",
    "\n",
    "    _ = display_audio(audio, rate = rate)\n",
    "    _ = display_audio(audio_pred, rate = rate)\n",
    "    _ = display_audio(audio_infer, rate = rate)\n",
    "    \n",
    "    if save:\n",
    "        save_dir = directory.replace('mels', 'audios')\n",
    "        os.makedirs(save_dir, exist_ok = True)\n",
    "        write_audio(audio, os.path.join(save_dir, filename[:-3] + 'mp3'), rate = rate)\n",
    "        write_audio(audio_pred, os.path.join(save_dir, pred_filename[:-3] + 'mp3'), rate = rate)\n",
    "        write_audio(audio_infer, os.path.join(save_dir, infer_filename[:-3] + 'mp3'), rate = rate)\n",
    "    \n",
    "    plot_spectrogram(\n",
    "        target = target, prediction = pred, inference = infer\n",
    "    )\n"
   ]
  },
  {
   "cell_type": "code",
   "execution_count": null,
   "metadata": {},
   "outputs": [],
   "source": [
    "step, mode = 500, 'train'\n",
    "\n",
    "for n in range(5):\n",
    "    infer_with_target(model_name, step, n, mode)\n"
   ]
  },
  {
   "cell_type": "markdown",
   "metadata": {},
   "source": [
    "## Tests"
   ]
  },
  {
   "cell_type": "code",
   "execution_count": 7,
   "metadata": {},
   "outputs": [
    {
     "name": "stdout",
     "output_type": "stream",
     "text": [
      "{'factor': 1024.0, 'warmup_steps': 2048, 'minval': 0.00025, 'maxval': 0.00075}\n"
     ]
    },
    {
     "data": {
      "image/png": "[encoded data removed]",
      "text/plain": [
       "<Figure size 432x288 with 1 Axes>"
      ]
     },
     "metadata": {},
     "output_type": "display_data"
    }
   ],
   "source": [
    "from custom_train_objects.optimizers import WarmupScheduler\n",
    "\n",
    "lr = WarmupScheduler(maxval = 75e-5, minval = 25e-5, factor = 1024)\n",
    "print(lr.get_config())\n",
    "lr.plot(1024 * 10)"
   ]
  },
  {
   "cell_type": "code",
   "execution_count": null,
   "metadata": {},
   "outputs": [],
   "source": []
  }
 ],
 "metadata": {
  "kernelspec": {
   "display_name": "Python 3 (ipykernel)",
   "language": "python",
   "name": "python3"
  },
  "language_info": {
   "codemirror_mode": {
    "name": "ipython",
    "version": 3
   },
   "file_extension": ".py",
   "mimetype": "text/x-python",
   "name": "python",
   "nbconvert_exporter": "python",
   "pygments_lexer": "ipython3",
   "version": "3.10.5"
  }
 },
 "nbformat": 4,
 "nbformat_minor": 4
}
