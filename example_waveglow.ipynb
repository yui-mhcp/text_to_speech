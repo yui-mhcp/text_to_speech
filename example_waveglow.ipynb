{
 "cells": [
  {
   "cell_type": "markdown",
   "metadata": {},
   "source": [
    "# Tensorflow WaveGlow inference\n",
    "\n",
    "The training procedure of `WaveGlow` is **not** implemented yet. This notebook shows how to create the `pretrained WaveGlow` in `tensorflow` and use it as `vocoder` in the `tts` API.\n",
    "\n",
    "Currently it seems that the `tensorflow` version is a bit slower than the `pytorch` one, even in graph mode. Therefore, I suggest you to use the `pytorch` version if you can.\n",
    "\n",
    "The advantage is that both synthesizer and vocoder are in `tensorflow` so you do not have to limit `tensorflow GPU memory` (see `text_to_speech` for more information). Another advantage is that you do not need a working installation of `pytorch` on GPU (which can be a huge advantage due to differences between `tensorflow` and `pytorch` for `CUDA / CuDNN` versions). \n",
    "\n",
    "**Important Note** : if you do not have a working `pytorch GPU` installation, simply download the `tensorflow` version (link in the `README`). "
   ]
  },
  {
   "cell_type": "markdown",
   "metadata": {},
   "source": [
    "## Creation of WaveGlow"
   ]
  },
  {
   "cell_type": "code",
   "execution_count": 1,
   "metadata": {},
   "outputs": [
    {
     "name": "stdout",
     "output_type": "stream",
     "text": [
      "Initializing submodel : vocoder !\n",
      "Submodel vocoder saved in pretrained_models\\WaveGlow\\saving\\vocoder.json !\n",
      "Model WaveGlow initialized successfully !\n",
      "Weights transfered successfully !\n",
      "Weights converted successfully !\n",
      "Submodel vocoder saved in pretrained_models\\WaveGlow\\saving\\vocoder.json !\n",
      "\n",
      "========== WaveGlow ==========\n",
      "Sub model vocoder\n",
      "- Inputs \t: unknown\n",
      "- Outputs \t: unknown\n",
      "- Number of layers \t: 25\n",
      "- Number of parameters \t: 268.000 Millions\n",
      "- Model not compiled\n",
      "\n",
      "Transfer-learning from : pytorch_nvidia_waveglow\n",
      "Already trained on 0 epochs (0 steps)\n",
      "\n",
      "Audio rate : 22050\n",
      "Mel channels : 80\n",
      "\n"
     ]
    }
   ],
   "source": [
    "from models.tts import WaveGlow\n",
    "\n",
    "waveglow = WaveGlow.from_nvidia_pretrained()\n",
    "print(waveglow)"
   ]
  },
  {
   "cell_type": "markdown",
   "metadata": {},
   "source": [
    "## Use it as vocoder\n",
    "\n",
    "You can use the exact same method ! If you want a custom vocoder, just specify the `vocoder` argument. Note that, if `WaveGlow` model exists, it will be use by default (if not, it will use the `pytorch` version)."
   ]
  },
  {
   "cell_type": "code",
   "execution_count": null,
   "metadata": {
    "tags": []
   },
   "outputs": [
    {
     "name": "stdout",
     "output_type": "stream",
     "text": [
      "Model restoration...\n",
      "Initializing submodel : `vocoder` !\n",
      "Successfully restored vocoder from pretrained_models/WaveGlow/saving/vocoder.json !\n",
      "[WARNING] Some layers have not bene restored from the checkpoint ! Run `model.load_checkpoint().assert_consumed()` to check if it is a critical error or not\n",
      "Model WaveGlow initialized successfully !\n",
      "Model restoration...\n",
      "Initializing submodel : `tts_model` !\n",
      "Successfully restored tts_model from pretrained_models/pretrained_tacotron2/saving/tts_model.json !\n",
      "Model pretrained_tacotron2 initialized successfully !\n"
     ]
    }
   ],
   "source": [
    "from models.tts import tts\n",
    "\n",
    "text = [\n",
    "    \"Hello world ! Hope you will enjoy this funny API for Text-To-Speech !\",\n",
    "    \"If you train new models, do not hesitate to contact me or add it in the available models !\"\n",
    "]\n",
    "\n",
    "tts(\n",
    "    text, lang = 'en', vocoder = 'WaveGlow', # (default)\n",
    "    directory = None, display = True, debug = True, tqdm = lambda x: x\n",
    ")"
   ]
  },
  {
   "cell_type": "code",
   "execution_count": null,
   "metadata": {},
   "outputs": [],
   "source": []
  }
 ],
 "metadata": {
  "kernelspec": {
   "display_name": "Python 3 (ipykernel)",
   "language": "python",
   "name": "python3"
  },
  "language_info": {
   "codemirror_mode": {
    "name": "ipython",
    "version": 3
   },
   "file_extension": ".py",
   "mimetype": "text/x-python",
   "name": "python",
   "nbconvert_exporter": "python",
   "pygments_lexer": "ipython3",
   "version": "3.10.5"
  }
 },
 "nbformat": 4,
 "nbformat_minor": 4
}
